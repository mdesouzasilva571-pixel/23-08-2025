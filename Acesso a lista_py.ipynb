{
  "cells": [
    {
      "cell_type": "markdown",
      "metadata": {
        "id": "view-in-github",
        "colab_type": "text"
      },
      "source": [
        "<a href=\"https://colab.research.google.com/github/mdesouzasilva571-pixel/23-08-2025/blob/main/Acesso%20a%20lista_py.ipynb\" target=\"_parent\"><img src=\"https://colab.research.google.com/assets/colab-badge.svg\" alt=\"Open In Colab\"/></a>"
      ]
    },
    {
      "cell_type": "code",
      "source": [
        "def verificar_par_ou_impar():\n",
        "  try:\n",
        "    numero = int(input(\"Digite um numero: \"))\n",
        "    if numero % 2 == 0:\n",
        "      print(\"O numero é par\")\n",
        "    else:\n",
        "      print(\"O numero é impar\")\n",
        "  except ValueError:\n",
        "    print(\"Digite um numero valido\")\n",
        "\n",
        "verificar_par_ou_impar()"
      ],
      "metadata": {
        "colab": {
          "base_uri": "https://localhost:8080/"
        },
        "id": "DNkdGfA7FmhE",
        "outputId": "cf450a26-efd4-4944-ca9e-d4f6dbb0b4bc"
      },
      "execution_count": 11,
      "outputs": [
        {
          "output_type": "stream",
          "name": "stdout",
          "text": [
            "Digite um numero: 5\n",
            "O numero é impar\n"
          ]
        }
      ]
    },
    {
      "cell_type": "markdown",
      "source": [
        "# Nova seção"
      ],
      "metadata": {
        "id": "nFHK3dl-Isr6"
      }
    },
    {
      "cell_type": "code",
      "source": [
        "def verifivar_acesso_lista():\n",
        "  lista=[10,20,30]\n",
        "  try:\n",
        "    indice=int(input(\"Digite o indice que deseja acessar:(0,1,ou 2) \"))\n",
        "    print(f\"O valor do indice {indice} é {lista[indice]}\")\n",
        "  except IndexError:\n",
        "    print(\"Indice invalido\")\n",
        "  except ValueError:\n",
        "    print(\"Digite um numero valido\")\n",
        ""
      ],
      "metadata": {
        "id": "zd6-Wy6GItce"
      },
      "execution_count": 20,
      "outputs": []
    }
  ],
  "metadata": {
    "colab": {
      "name": "Conheça o Colab",
      "toc_visible": true,
      "provenance": [],
      "include_colab_link": true
    },
    "kernelspec": {
      "display_name": "Python 3",
      "name": "python3"
    }
  },
  "nbformat": 4,
  "nbformat_minor": 0
}