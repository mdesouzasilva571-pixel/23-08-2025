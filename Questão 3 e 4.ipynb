{
  "cells": [
    {
      "cell_type": "markdown",
      "metadata": {
        "id": "view-in-github",
        "colab_type": "text"
      },
      "source": [
        "<a href=\"https://colab.research.google.com/github/mdesouzasilva571-pixel/23-08-2025/blob/main/Quest%C3%A3o%203%20e%204.ipynb\" target=\"_parent\"><img src=\"https://colab.research.google.com/assets/colab-badge.svg\" alt=\"Open In Colab\"/></a>"
      ]
    },
    {
      "cell_type": "code",
      "source": [
        "for numero in range(1,11):\n",
        "  print(numero)"
      ],
      "metadata": {
        "colab": {
          "base_uri": "https://localhost:8080/"
        },
        "id": "ZGSRIS044TER",
        "outputId": "2ac15179-18eb-4d24-84f5-d15122758cc3"
      },
      "execution_count": 2,
      "outputs": [
        {
          "output_type": "stream",
          "name": "stdout",
          "text": [
            "1\n",
            "2\n",
            "3\n",
            "4\n",
            "5\n",
            "6\n",
            "7\n",
            "8\n",
            "9\n",
            "10\n"
          ]
        }
      ]
    },
    {
      "cell_type": "code",
      "source": [
        "Clientes={\n",
        "    \"nome\":\"Clara\",\n",
        "    \"idade\": 18\n",
        "}\n",
        "\n",
        "print(Clientes.get(\"nome\"))\n",
        "print(Clientes.get(\"idade\"))\n",
        "\n",
        "Clientes={\n",
        "    \"nome\":\"Clara\",\n",
        "    \"idade\": 18,\n",
        "    \"nome\":\"Maria\",\n",
        "    \"idade\": 55\n",
        "}\n",
        "print(Clientes.get(\"nome\"))\n",
        "print(Clientes.get(\"idade\"))\n",
        "\n",
        "Clientes={\n",
        "    \"nome\":\"Clara\",\n",
        "    \"idade\": 18,\n",
        "    \"nome\":\"Maria\",\n",
        "    \"idade\": 55,\n",
        "    \"nome\":\"Julia\",\n",
        "    \"idade\": 25\n",
        "\n",
        "}\n",
        "print(Clientes.get(\"nome\"))\n",
        "print(Clientes.get(\"idade\"))"
      ],
      "metadata": {
        "colab": {
          "base_uri": "https://localhost:8080/"
        },
        "id": "PfQEXoIk4d0n",
        "outputId": "b643fab2-53da-4618-8229-fc38b44b8891"
      },
      "execution_count": 11,
      "outputs": [
        {
          "output_type": "stream",
          "name": "stdout",
          "text": [
            "Clara\n",
            "18\n",
            "Maria\n",
            "55\n",
            "Julia\n",
            "25\n"
          ]
        }
      ]
    },
    {
      "cell_type": "code",
      "source": [
        "# Criação do dicionário\n",
        "pessoas = {\n",
        "    \"Alice\": 30,\n",
        "    \"Bruno\": 25,\n",
        "    \"Carlos\": 35\n",
        "}\n",
        "\n",
        "# Impressão de cada par (nome e idade)\n",
        "print(\"Informações das pessoas:\")\n",
        "for nome, idade in pessoas.items():\n",
        "    print(f\"Nome: {nome}, Idade: {idade}\")"
      ],
      "metadata": {
        "colab": {
          "base_uri": "https://localhost:8080/"
        },
        "id": "5DiU8pdA779k",
        "outputId": "b26ca18f-42ba-450a-9dc3-d0b322098e96"
      },
      "execution_count": 12,
      "outputs": [
        {
          "output_type": "stream",
          "name": "stdout",
          "text": [
            "Informações das pessoas:\n",
            "Nome: Alice, Idade: 30\n",
            "Nome: Bruno, Idade: 25\n",
            "Nome: Carlos, Idade: 35\n"
          ]
        }
      ]
    }
  ],
  "metadata": {
    "colab": {
      "name": "Damos-lhe as boas-vindas ao Colab",
      "toc_visible": true,
      "provenance": [],
      "include_colab_link": true
    },
    "kernelspec": {
      "display_name": "Python 3",
      "name": "python3"
    }
  },
  "nbformat": 4,
  "nbformat_minor": 0
}