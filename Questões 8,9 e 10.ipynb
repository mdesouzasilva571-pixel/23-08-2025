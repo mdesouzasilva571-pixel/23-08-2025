{
  "cells": [
    {
      "cell_type": "markdown",
      "metadata": {
        "id": "view-in-github",
        "colab_type": "text"
      },
      "source": [
        "<a href=\"https://colab.research.google.com/github/mdesouzasilva571-pixel/23-08-2025/blob/main/Quest%C3%B5es%208%2C9%20e%2010.ipynb\" target=\"_parent\"><img src=\"https://colab.research.google.com/assets/colab-badge.svg\" alt=\"Open In Colab\"/></a>"
      ]
    },
    {
      "cell_type": "code",
      "source": [
        "for verificar_numero_impar_par in range(1, 11):\n",
        "    if verificar_numero_impar_par % 2 == 0:\n",
        "        print(f\"{verificar_numero_impar_par} é par\")\n",
        "    else:\n",
        "        print(f\"{verificar_numero_impar_par} é ímpar\")"
      ],
      "metadata": {
        "colab": {
          "base_uri": "https://localhost:8080/"
        },
        "id": "IvrI2ALp__PG",
        "outputId": "5856cce9-d7fb-4b93-93c5-e8b2a94ac51b"
      },
      "execution_count": 21,
      "outputs": [
        {
          "output_type": "stream",
          "name": "stdout",
          "text": [
            "1 é ímpar\n",
            "2 é par\n",
            "3 é ímpar\n",
            "4 é par\n",
            "5 é ímpar\n",
            "6 é par\n",
            "7 é ímpar\n",
            "8 é par\n",
            "9 é ímpar\n",
            "10 é par\n"
          ]
        }
      ]
    },
    {
      "cell_type": "code",
      "source": [
        "numero=1\n",
        "while numero <= 5:\n",
        "    print(numero)\n",
        "    numero += 1"
      ],
      "metadata": {
        "colab": {
          "base_uri": "https://localhost:8080/"
        },
        "id": "q0tG6i4HA9Sg",
        "outputId": "5fc41e28-1ccb-4b3a-c29c-0acc99f7072d"
      },
      "execution_count": 22,
      "outputs": [
        {
          "output_type": "stream",
          "name": "stdout",
          "text": [
            "1\n",
            "2\n",
            "3\n",
            "4\n",
            "5\n"
          ]
        }
      ]
    },
    {
      "cell_type": "code",
      "source": [
        "#dicionario de produtos\n",
        "produtos={\n",
        "    \"Notebook\": 2000,\n",
        "    \"Celular\":1300,\n",
        "    \"Caixinha de som\": 250\n",
        "}\n",
        "#imprimir apenas nomes dos produtos\n",
        "for produto in produtos:\n",
        "    print(produto)"
      ],
      "metadata": {
        "colab": {
          "base_uri": "https://localhost:8080/"
        },
        "id": "yNZ0OOqBBUff",
        "outputId": "56d1ad1f-4b5b-448b-c2c7-3b4b74e88894"
      },
      "execution_count": 24,
      "outputs": [
        {
          "output_type": "stream",
          "name": "stdout",
          "text": [
            "Notebook\n",
            "Celular\n",
            "Caixinha de som\n"
          ]
        }
      ]
    }
  ],
  "metadata": {
    "colab": {
      "name": "Damos-lhe as boas-vindas ao Colab",
      "toc_visible": true,
      "provenance": [],
      "include_colab_link": true
    },
    "kernelspec": {
      "display_name": "Python 3",
      "name": "python3"
    }
  },
  "nbformat": 4,
  "nbformat_minor": 0
}